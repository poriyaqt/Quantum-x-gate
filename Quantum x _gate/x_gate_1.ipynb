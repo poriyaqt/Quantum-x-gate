{
 "cells": [
  {
   "cell_type": "code",
   "execution_count": 1,
   "id": "20b4d13f-3aaa-45f6-85a8-f70701fed842",
   "metadata": {},
   "outputs": [],
   "source": [
    "# Configure Matplotlib for inline display in Jupyter Notebook\n",
    "%matplotlib inline"
   ]
  },
  {
   "cell_type": "code",
   "execution_count": 2,
   "id": "3f04b0e7-bb67-4a42-9df5-9b1d993e8e74",
   "metadata": {},
   "outputs": [],
   "source": [
    "# Import required libraries\n",
    "from qiskit import QuantumCircuit, transpile\n",
    "from qiskit_aer import AerSimulator\n",
    "from qiskit.visualization import plot_histogram\n",
    "import matplotlib.pyplot as plt"
   ]
  },
  {
   "cell_type": "code",
   "execution_count": 4,
   "id": "d985ea0d-3380-4c03-b603-4adaca168674",
   "metadata": {},
   "outputs": [
    {
     "data": {
      "text/plain": [
       "<qiskit.circuit.instructionset.InstructionSet at 0x2a5c6403220>"
      ]
     },
     "execution_count": 4,
     "metadata": {},
     "output_type": "execute_result"
    }
   ],
   "source": [
    "# Create a simple quantum circuit to demonstrate the X gate\n",
    "# 1 qubit and 1 classical bit\n",
    "qc = QuantumCircuit(1, 1)\n",
    "# Apply X gate to flip the qubit from |0⟩to|1⟩\n",
    "qc.x(0)     \n",
    "# Measure the qubit and store result in classical bit\n",
    "qc.measure(0, 0)        "
   ]
  },
  {
   "cell_type": "code",
   "execution_count": 5,
   "id": "0d3ffe25-3719-4a18-abe7-f2241fe649e3",
   "metadata": {},
   "outputs": [
    {
     "name": "stdout",
     "output_type": "stream",
     "text": [
      "Simulation Results: {'1': 1024}\n"
     ]
    }
   ],
   "source": [
    "# Set up the quantum simulator\n",
    "simulator = AerSimulator()\n",
    "# Transpile the circuit for the simulator\n",
    "compiled_circuit = transpile(qc, simulator)\n",
    "# Run the simulation with 1024 shots\n",
    "result = simulator.run(compiled_circuit, shots=1024).result()\n",
    "# Get the measurement counts\n",
    "counts = result.get_counts()\n",
    "print(\"Simulation Results:\", counts)"
   ]
  },
  {
   "cell_type": "code",
   "execution_count": 7,
   "id": "45a7d386-35a3-4caf-b661-5ed7ba280047",
   "metadata": {},
   "outputs": [
    {
     "name": "stdout",
     "output_type": "stream",
     "text": [
      "Histogram saved as 'x_gate_result.png'!\n"
     ]
    }
   ],
   "source": [
    "# Visualize the results with a histogram\n",
    " # Generate the histogram figure\n",
    "fig = plot_histogram(counts)      \n",
    "# Save the histogram as a PNG file\n",
    "fig.savefig(\"x_gate_result.png\")    \n",
    "# Display the histogram\n",
    "plt.show()                            \n",
    "print(\"Histogram saved as 'x_gate_result.png'!\")"
   ]
  },
  {
   "cell_type": "code",
   "execution_count": null,
   "id": "7dc9262a-98a0-4f04-8b4b-9ebcdbf99031",
   "metadata": {},
   "outputs": [],
   "source": []
  }
 ],
 "metadata": {
  "kernelspec": {
   "display_name": "Python 3 (ipykernel)",
   "language": "python",
   "name": "python3"
  },
  "language_info": {
   "codemirror_mode": {
    "name": "ipython",
    "version": 3
   },
   "file_extension": ".py",
   "mimetype": "text/x-python",
   "name": "python",
   "nbconvert_exporter": "python",
   "pygments_lexer": "ipython3",
   "version": "3.10.16"
  }
 },
 "nbformat": 4,
 "nbformat_minor": 5
}
